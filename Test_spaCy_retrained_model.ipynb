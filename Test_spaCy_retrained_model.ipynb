{
 "cells": [
  {
   "cell_type": "code",
   "execution_count": 14,
   "id": "undefined-teacher",
   "metadata": {
    "ExecuteTime": {
     "end_time": "2021-03-20T09:57:26.051945Z",
     "start_time": "2021-03-20T09:57:26.040974Z"
    }
   },
   "outputs": [],
   "source": [
    "import spacy\n",
    "import numpy as np\n",
    "import pandas as pd\n",
    "from tqdm import tqdm"
   ]
  },
  {
   "cell_type": "code",
   "execution_count": 15,
   "id": "french-grain",
   "metadata": {
    "ExecuteTime": {
     "end_time": "2021-03-20T09:57:29.638881Z",
     "start_time": "2021-03-20T09:57:28.979219Z"
    }
   },
   "outputs": [],
   "source": [
    "raw_df = pd.read_csv('data/train.csv')\n",
    "raw_test = pd.read_csv('data/test.csv')"
   ]
  },
  {
   "cell_type": "code",
   "execution_count": 4,
   "id": "retained-closing",
   "metadata": {
    "ExecuteTime": {
     "end_time": "2021-03-18T00:32:01.823510Z",
     "start_time": "2021-03-18T00:32:01.805558Z"
    }
   },
   "outputs": [],
   "source": [
    "df = raw_df.copy()\n",
    "test_df = raw_test.copy()"
   ]
  },
  {
   "cell_type": "markdown",
   "id": "affecting-devil",
   "metadata": {},
   "source": [
    "## Model 1 ( with 'xx_ent_wiki_sm' ) multi language model"
   ]
  },
  {
   "cell_type": "code",
   "execution_count": 30,
   "id": "requested-protocol",
   "metadata": {
    "ExecuteTime": {
     "end_time": "2021-03-16T10:30:17.830982Z",
     "start_time": "2021-03-16T10:30:17.812033Z"
    }
   },
   "outputs": [
    {
     "data": {
      "text/html": [
       "<div>\n",
       "<style scoped>\n",
       "    .dataframe tbody tr th:only-of-type {\n",
       "        vertical-align: middle;\n",
       "    }\n",
       "\n",
       "    .dataframe tbody tr th {\n",
       "        vertical-align: top;\n",
       "    }\n",
       "\n",
       "    .dataframe thead th {\n",
       "        text-align: right;\n",
       "    }\n",
       "</style>\n",
       "<table border=\"1\" class=\"dataframe\">\n",
       "  <thead>\n",
       "    <tr style=\"text-align: right;\">\n",
       "      <th></th>\n",
       "      <th>id</th>\n",
       "      <th>raw_address</th>\n",
       "    </tr>\n",
       "  </thead>\n",
       "  <tbody>\n",
       "    <tr>\n",
       "      <th>0</th>\n",
       "      <td>0</td>\n",
       "      <td>s. par 53 sidanegara 4 cilacap tengah</td>\n",
       "    </tr>\n",
       "    <tr>\n",
       "      <th>1</th>\n",
       "      <td>1</td>\n",
       "      <td>angg per, baloi indah kel. lubuk baja</td>\n",
       "    </tr>\n",
       "    <tr>\n",
       "      <th>2</th>\n",
       "      <td>2</td>\n",
       "      <td>asma laun, mand imog,</td>\n",
       "    </tr>\n",
       "    <tr>\n",
       "      <th>3</th>\n",
       "      <td>3</td>\n",
       "      <td>ud agung rej, raya nga sri wedari karanganyar</td>\n",
       "    </tr>\n",
       "    <tr>\n",
       "      <th>4</th>\n",
       "      <td>4</td>\n",
       "      <td>cut mutia, 35 baiturrahman</td>\n",
       "    </tr>\n",
       "    <tr>\n",
       "      <th>...</th>\n",
       "      <td>...</td>\n",
       "      <td>...</td>\n",
       "    </tr>\n",
       "    <tr>\n",
       "      <th>49995</th>\n",
       "      <td>49995</td>\n",
       "      <td>toko mbak farid semboro semboro</td>\n",
       "    </tr>\n",
       "    <tr>\n",
       "      <th>49996</th>\n",
       "      <td>49996</td>\n",
       "      <td>vie - tk. ridho kids, vete 3 cari, 16720 ciawi</td>\n",
       "    </tr>\n",
       "    <tr>\n",
       "      <th>49997</th>\n",
       "      <td>49997</td>\n",
       "      <td>mart dan roti bakar malabar, nasio,</td>\n",
       "    </tr>\n",
       "    <tr>\n",
       "      <th>49998</th>\n",
       "      <td>49998</td>\n",
       "      <td>graha indah pamulang jl. mujair raya bambu apu...</td>\n",
       "    </tr>\n",
       "    <tr>\n",
       "      <th>49999</th>\n",
       "      <td>49999</td>\n",
       "      <td>adi,</td>\n",
       "    </tr>\n",
       "  </tbody>\n",
       "</table>\n",
       "<p>50000 rows × 2 columns</p>\n",
       "</div>"
      ],
      "text/plain": [
       "          id                                        raw_address\n",
       "0          0              s. par 53 sidanegara 4 cilacap tengah\n",
       "1          1              angg per, baloi indah kel. lubuk baja\n",
       "2          2                              asma laun, mand imog,\n",
       "3          3      ud agung rej, raya nga sri wedari karanganyar\n",
       "4          4                         cut mutia, 35 baiturrahman\n",
       "...      ...                                                ...\n",
       "49995  49995                    toko mbak farid semboro semboro\n",
       "49996  49996     vie - tk. ridho kids, vete 3 cari, 16720 ciawi\n",
       "49997  49997                mart dan roti bakar malabar, nasio,\n",
       "49998  49998  graha indah pamulang jl. mujair raya bambu apu...\n",
       "49999  49999                                               adi,\n",
       "\n",
       "[50000 rows x 2 columns]"
      ]
     },
     "execution_count": 30,
     "metadata": {},
     "output_type": "execute_result"
    }
   ],
   "source": [
    "test_df"
   ]
  },
  {
   "cell_type": "code",
   "execution_count": 9,
   "id": "harmful-rings",
   "metadata": {
    "ExecuteTime": {
     "end_time": "2021-03-16T10:13:20.422053Z",
     "start_time": "2021-03-16T10:13:18.574051Z"
    }
   },
   "outputs": [],
   "source": [
    "nlp = spacy.load('id_ner_address')"
   ]
  },
  {
   "cell_type": "code",
   "execution_count": 32,
   "id": "medieval-hughes",
   "metadata": {
    "ExecuteTime": {
     "end_time": "2021-03-16T10:31:50.255321Z",
     "start_time": "2021-03-16T10:31:50.251331Z"
    }
   },
   "outputs": [],
   "source": [
    "prediction = []"
   ]
  },
  {
   "cell_type": "code",
   "execution_count": 33,
   "id": "thrown-explosion",
   "metadata": {
    "ExecuteTime": {
     "end_time": "2021-03-16T10:33:57.081061Z",
     "start_time": "2021-03-16T10:31:50.966928Z"
    }
   },
   "outputs": [
    {
     "name": "stderr",
     "output_type": "stream",
     "text": [
      "100%|███████████████████████████████████████████████████████████████████████████| 50000/50000 [02:06<00:00, 396.53it/s]\n"
     ]
    }
   ],
   "source": [
    "for row in tqdm(test_df.itertuples(index = False), total = len(test_df)):\n",
    "    predicted = '/'\n",
    "    tokens = nlp(row[1])\n",
    "    for ent in tokens.ents:\n",
    "        if ent.label_ == 'STREET':\n",
    "            predicted = predicted + ent.text\n",
    "        if ent.label_ == 'POI':\n",
    "            predicted = ent.text + predicted\n",
    "    prediction.append(predicted)"
   ]
  },
  {
   "cell_type": "code",
   "execution_count": 34,
   "id": "stone-gibraltar",
   "metadata": {
    "ExecuteTime": {
     "end_time": "2021-03-16T10:34:03.224246Z",
     "start_time": "2021-03-16T10:34:03.215270Z"
    }
   },
   "outputs": [],
   "source": [
    "test_df['prediction'] = prediction"
   ]
  },
  {
   "cell_type": "code",
   "execution_count": 35,
   "id": "apparent-jimmy",
   "metadata": {
    "ExecuteTime": {
     "end_time": "2021-03-16T10:34:06.137212Z",
     "start_time": "2021-03-16T10:34:06.113276Z"
    }
   },
   "outputs": [
    {
     "data": {
      "text/html": [
       "<div>\n",
       "<style scoped>\n",
       "    .dataframe tbody tr th:only-of-type {\n",
       "        vertical-align: middle;\n",
       "    }\n",
       "\n",
       "    .dataframe tbody tr th {\n",
       "        vertical-align: top;\n",
       "    }\n",
       "\n",
       "    .dataframe thead th {\n",
       "        text-align: right;\n",
       "    }\n",
       "</style>\n",
       "<table border=\"1\" class=\"dataframe\">\n",
       "  <thead>\n",
       "    <tr style=\"text-align: right;\">\n",
       "      <th></th>\n",
       "      <th>id</th>\n",
       "      <th>raw_address</th>\n",
       "      <th>prediction</th>\n",
       "    </tr>\n",
       "  </thead>\n",
       "  <tbody>\n",
       "    <tr>\n",
       "      <th>0</th>\n",
       "      <td>0</td>\n",
       "      <td>s. par 53 sidanegara 4 cilacap tengah</td>\n",
       "      <td>/s. par</td>\n",
       "    </tr>\n",
       "    <tr>\n",
       "      <th>1</th>\n",
       "      <td>1</td>\n",
       "      <td>angg per, baloi indah kel. lubuk baja</td>\n",
       "      <td>/angg per</td>\n",
       "    </tr>\n",
       "    <tr>\n",
       "      <th>2</th>\n",
       "      <td>2</td>\n",
       "      <td>asma laun, mand imog,</td>\n",
       "      <td>/mand imog</td>\n",
       "    </tr>\n",
       "    <tr>\n",
       "      <th>3</th>\n",
       "      <td>3</td>\n",
       "      <td>ud agung rej, raya nga sri wedari karanganyar</td>\n",
       "      <td>/raya nga</td>\n",
       "    </tr>\n",
       "    <tr>\n",
       "      <th>4</th>\n",
       "      <td>4</td>\n",
       "      <td>cut mutia, 35 baiturrahman</td>\n",
       "      <td>/cut mutia</td>\n",
       "    </tr>\n",
       "    <tr>\n",
       "      <th>...</th>\n",
       "      <td>...</td>\n",
       "      <td>...</td>\n",
       "      <td>...</td>\n",
       "    </tr>\n",
       "    <tr>\n",
       "      <th>95</th>\n",
       "      <td>95</td>\n",
       "      <td>20 dese 15 rt 2 3 pegadungan kalideres</td>\n",
       "      <td>/20 dese</td>\n",
       "    </tr>\n",
       "    <tr>\n",
       "      <th>96</th>\n",
       "      <td>96</td>\n",
       "      <td>nila 64 bulakamba</td>\n",
       "      <td>/nila 64</td>\n",
       "    </tr>\n",
       "    <tr>\n",
       "      <th>97</th>\n",
       "      <td>97</td>\n",
       "      <td>raya pasar kec,</td>\n",
       "      <td>/raya pasar kec</td>\n",
       "    </tr>\n",
       "    <tr>\n",
       "      <th>98</th>\n",
       "      <td>98</td>\n",
       "      <td>lin ren tembil smk pekantua,</td>\n",
       "      <td>smk pekantua/lin ren tembil</td>\n",
       "    </tr>\n",
       "    <tr>\n",
       "      <th>99</th>\n",
       "      <td>99</td>\n",
       "      <td>pelor, kampung melayu timur rt 1 6 teluknaga</td>\n",
       "      <td>/pelor</td>\n",
       "    </tr>\n",
       "  </tbody>\n",
       "</table>\n",
       "<p>100 rows × 3 columns</p>\n",
       "</div>"
      ],
      "text/plain": [
       "    id                                    raw_address  \\\n",
       "0    0          s. par 53 sidanegara 4 cilacap tengah   \n",
       "1    1          angg per, baloi indah kel. lubuk baja   \n",
       "2    2                          asma laun, mand imog,   \n",
       "3    3  ud agung rej, raya nga sri wedari karanganyar   \n",
       "4    4                     cut mutia, 35 baiturrahman   \n",
       "..  ..                                            ...   \n",
       "95  95         20 dese 15 rt 2 3 pegadungan kalideres   \n",
       "96  96                              nila 64 bulakamba   \n",
       "97  97                                raya pasar kec,   \n",
       "98  98                   lin ren tembil smk pekantua,   \n",
       "99  99   pelor, kampung melayu timur rt 1 6 teluknaga   \n",
       "\n",
       "                     prediction  \n",
       "0                       /s. par  \n",
       "1                     /angg per  \n",
       "2                    /mand imog  \n",
       "3                     /raya nga  \n",
       "4                    /cut mutia  \n",
       "..                          ...  \n",
       "95                     /20 dese  \n",
       "96                     /nila 64  \n",
       "97              /raya pasar kec  \n",
       "98  smk pekantua/lin ren tembil  \n",
       "99                       /pelor  \n",
       "\n",
       "[100 rows x 3 columns]"
      ]
     },
     "execution_count": 35,
     "metadata": {},
     "output_type": "execute_result"
    }
   ],
   "source": [
    "test_df.head(100)"
   ]
  },
  {
   "cell_type": "code",
   "execution_count": 36,
   "id": "entertaining-rating",
   "metadata": {
    "ExecuteTime": {
     "end_time": "2021-03-16T10:36:34.971337Z",
     "start_time": "2021-03-16T10:36:34.947399Z"
    }
   },
   "outputs": [],
   "source": [
    "submission = test_df[['id','prediction']]"
   ]
  },
  {
   "cell_type": "code",
   "execution_count": 39,
   "id": "emotional-planet",
   "metadata": {
    "ExecuteTime": {
     "end_time": "2021-03-16T10:37:38.679754Z",
     "start_time": "2021-03-16T10:37:38.670777Z"
    }
   },
   "outputs": [],
   "source": [
    "submission = submission.rename({'prediction':'POI/street'}, axis = 1)"
   ]
  },
  {
   "cell_type": "code",
   "execution_count": 42,
   "id": "british-sunday",
   "metadata": {
    "ExecuteTime": {
     "end_time": "2021-03-16T10:53:39.045390Z",
     "start_time": "2021-03-16T10:53:38.944652Z"
    }
   },
   "outputs": [],
   "source": [
    "submission.to_csv('submission1.csv', index = False)"
   ]
  },
  {
   "cell_type": "markdown",
   "id": "tracked-soccer",
   "metadata": {},
   "source": [
    "## Model 2 ( with 'en_core_web_lg' ) large English model"
   ]
  },
  {
   "cell_type": "code",
   "execution_count": 5,
   "id": "dangerous-radiation",
   "metadata": {
    "ExecuteTime": {
     "end_time": "2021-03-18T00:33:34.573145Z",
     "start_time": "2021-03-18T00:33:34.559183Z"
    }
   },
   "outputs": [],
   "source": [
    "test_df2 = raw_test.copy()"
   ]
  },
  {
   "cell_type": "code",
   "execution_count": 6,
   "id": "rising-multiple",
   "metadata": {
    "ExecuteTime": {
     "end_time": "2021-03-18T00:33:52.432015Z",
     "start_time": "2021-03-18T00:33:50.423300Z"
    }
   },
   "outputs": [],
   "source": [
    "nlp2 = spacy.load('id_ner_address_model_2_from_en')"
   ]
  },
  {
   "cell_type": "code",
   "execution_count": 7,
   "id": "deluxe-intro",
   "metadata": {
    "ExecuteTime": {
     "end_time": "2021-03-18T00:34:16.274246Z",
     "start_time": "2021-03-18T00:34:16.263275Z"
    }
   },
   "outputs": [],
   "source": [
    "prediction = []"
   ]
  },
  {
   "cell_type": "code",
   "execution_count": 8,
   "id": "combined-mission",
   "metadata": {
    "ExecuteTime": {
     "end_time": "2021-03-18T00:39:42.646409Z",
     "start_time": "2021-03-18T00:34:19.918145Z"
    }
   },
   "outputs": [
    {
     "name": "stderr",
     "output_type": "stream",
     "text": [
      "100%|███████████████████████████████████████████████████████████████████████████| 50000/50000 [05:22<00:00, 154.94it/s]\n"
     ]
    }
   ],
   "source": [
    "for row in tqdm(test_df2.itertuples(index = False), total = len(test_df2)):\n",
    "    predicted = '/'\n",
    "    tokens = nlp2(row[1])\n",
    "    for ent in tokens.ents:\n",
    "        if ent.label_ == 'STREET':\n",
    "            predicted = predicted + ent.text\n",
    "        if ent.label_ == 'POI':\n",
    "            predicted = ent.text + predicted\n",
    "    prediction.append(predicted)"
   ]
  },
  {
   "cell_type": "code",
   "execution_count": 9,
   "id": "inclusive-stock",
   "metadata": {
    "ExecuteTime": {
     "end_time": "2021-03-18T00:39:55.362794Z",
     "start_time": "2021-03-18T00:39:55.354815Z"
    }
   },
   "outputs": [],
   "source": [
    "test_df2['prediction'] = prediction"
   ]
  },
  {
   "cell_type": "code",
   "execution_count": 10,
   "id": "removed-grocery",
   "metadata": {
    "ExecuteTime": {
     "end_time": "2021-03-18T00:40:00.108765Z",
     "start_time": "2021-03-18T00:40:00.077848Z"
    }
   },
   "outputs": [
    {
     "data": {
      "text/html": [
       "<div>\n",
       "<style scoped>\n",
       "    .dataframe tbody tr th:only-of-type {\n",
       "        vertical-align: middle;\n",
       "    }\n",
       "\n",
       "    .dataframe tbody tr th {\n",
       "        vertical-align: top;\n",
       "    }\n",
       "\n",
       "    .dataframe thead th {\n",
       "        text-align: right;\n",
       "    }\n",
       "</style>\n",
       "<table border=\"1\" class=\"dataframe\">\n",
       "  <thead>\n",
       "    <tr style=\"text-align: right;\">\n",
       "      <th></th>\n",
       "      <th>id</th>\n",
       "      <th>raw_address</th>\n",
       "      <th>prediction</th>\n",
       "    </tr>\n",
       "  </thead>\n",
       "  <tbody>\n",
       "    <tr>\n",
       "      <th>0</th>\n",
       "      <td>0</td>\n",
       "      <td>s. par 53 sidanegara 4 cilacap tengah</td>\n",
       "      <td>/s. par</td>\n",
       "    </tr>\n",
       "    <tr>\n",
       "      <th>1</th>\n",
       "      <td>1</td>\n",
       "      <td>angg per, baloi indah kel. lubuk baja</td>\n",
       "      <td>/angg per</td>\n",
       "    </tr>\n",
       "    <tr>\n",
       "      <th>2</th>\n",
       "      <td>2</td>\n",
       "      <td>asma laun, mand imog,</td>\n",
       "      <td>/mand imog</td>\n",
       "    </tr>\n",
       "    <tr>\n",
       "      <th>3</th>\n",
       "      <td>3</td>\n",
       "      <td>ud agung rej, raya nga sri wedari karanganyar</td>\n",
       "      <td>/raya nga</td>\n",
       "    </tr>\n",
       "    <tr>\n",
       "      <th>4</th>\n",
       "      <td>4</td>\n",
       "      <td>cut mutia, 35 baiturrahman</td>\n",
       "      <td>/cut mutia</td>\n",
       "    </tr>\n",
       "    <tr>\n",
       "      <th>...</th>\n",
       "      <td>...</td>\n",
       "      <td>...</td>\n",
       "      <td>...</td>\n",
       "    </tr>\n",
       "    <tr>\n",
       "      <th>95</th>\n",
       "      <td>95</td>\n",
       "      <td>20 dese 15 rt 2 3 pegadungan kalideres</td>\n",
       "      <td>/20 dese</td>\n",
       "    </tr>\n",
       "    <tr>\n",
       "      <th>96</th>\n",
       "      <td>96</td>\n",
       "      <td>nila 64 bulakamba</td>\n",
       "      <td>/nila</td>\n",
       "    </tr>\n",
       "    <tr>\n",
       "      <th>97</th>\n",
       "      <td>97</td>\n",
       "      <td>raya pasar kec,</td>\n",
       "      <td>/raya pasar kec</td>\n",
       "    </tr>\n",
       "    <tr>\n",
       "      <th>98</th>\n",
       "      <td>98</td>\n",
       "      <td>lin ren tembil smk pekantua,</td>\n",
       "      <td>/</td>\n",
       "    </tr>\n",
       "    <tr>\n",
       "      <th>99</th>\n",
       "      <td>99</td>\n",
       "      <td>pelor, kampung melayu timur rt 1 6 teluknaga</td>\n",
       "      <td>/pelor</td>\n",
       "    </tr>\n",
       "  </tbody>\n",
       "</table>\n",
       "<p>100 rows × 3 columns</p>\n",
       "</div>"
      ],
      "text/plain": [
       "    id                                    raw_address       prediction\n",
       "0    0          s. par 53 sidanegara 4 cilacap tengah          /s. par\n",
       "1    1          angg per, baloi indah kel. lubuk baja        /angg per\n",
       "2    2                          asma laun, mand imog,       /mand imog\n",
       "3    3  ud agung rej, raya nga sri wedari karanganyar        /raya nga\n",
       "4    4                     cut mutia, 35 baiturrahman       /cut mutia\n",
       "..  ..                                            ...              ...\n",
       "95  95         20 dese 15 rt 2 3 pegadungan kalideres         /20 dese\n",
       "96  96                              nila 64 bulakamba            /nila\n",
       "97  97                                raya pasar kec,  /raya pasar kec\n",
       "98  98                   lin ren tembil smk pekantua,                /\n",
       "99  99   pelor, kampung melayu timur rt 1 6 teluknaga           /pelor\n",
       "\n",
       "[100 rows x 3 columns]"
      ]
     },
     "execution_count": 10,
     "metadata": {},
     "output_type": "execute_result"
    }
   ],
   "source": [
    "test_df2.head(100)"
   ]
  },
  {
   "cell_type": "code",
   "execution_count": 11,
   "id": "turned-diabetes",
   "metadata": {
    "ExecuteTime": {
     "end_time": "2021-03-18T00:40:05.678211Z",
     "start_time": "2021-03-18T00:40:05.653277Z"
    }
   },
   "outputs": [],
   "source": [
    "submission2 = test_df2[['id','prediction']]"
   ]
  },
  {
   "cell_type": "code",
   "execution_count": 12,
   "id": "legal-contributor",
   "metadata": {
    "ExecuteTime": {
     "end_time": "2021-03-18T00:40:06.292588Z",
     "start_time": "2021-03-18T00:40:06.273640Z"
    }
   },
   "outputs": [],
   "source": [
    "submission2 = submission2.rename({'prediction':'POI/street'}, axis = 1)"
   ]
  },
  {
   "cell_type": "code",
   "execution_count": 13,
   "id": "joined-snake",
   "metadata": {
    "ExecuteTime": {
     "end_time": "2021-03-18T00:40:09.763492Z",
     "start_time": "2021-03-18T00:40:09.665754Z"
    }
   },
   "outputs": [],
   "source": [
    "submission2.to_csv('submission2.csv', index = False)"
   ]
  },
  {
   "cell_type": "markdown",
   "id": "wired-baptist",
   "metadata": {},
   "source": [
    "## Model 3 ( with 'xx_ent_wiki_sm' ) multi language without nlp.initialize()"
   ]
  },
  {
   "cell_type": "code",
   "execution_count": 17,
   "id": "champion-psychology",
   "metadata": {
    "ExecuteTime": {
     "end_time": "2021-03-18T09:11:27.232542Z",
     "start_time": "2021-03-18T09:11:27.213590Z"
    }
   },
   "outputs": [],
   "source": [
    "test_df3 = raw_test.copy()"
   ]
  },
  {
   "cell_type": "code",
   "execution_count": 14,
   "id": "nutritional-methodology",
   "metadata": {
    "ExecuteTime": {
     "end_time": "2021-03-18T09:10:49.631993Z",
     "start_time": "2021-03-18T09:10:47.504415Z"
    }
   },
   "outputs": [],
   "source": [
    "nlp3 = spacy.load('id_ner_address_model_3_multi_no_init')"
   ]
  },
  {
   "cell_type": "code",
   "execution_count": 15,
   "id": "vocational-consciousness",
   "metadata": {
    "ExecuteTime": {
     "end_time": "2021-03-18T09:11:02.401731Z",
     "start_time": "2021-03-18T09:11:02.373770Z"
    }
   },
   "outputs": [],
   "source": [
    "prediction = []"
   ]
  },
  {
   "cell_type": "code",
   "execution_count": 18,
   "id": "another-vision",
   "metadata": {
    "ExecuteTime": {
     "end_time": "2021-03-18T09:13:44.360306Z",
     "start_time": "2021-03-18T09:11:28.857121Z"
    }
   },
   "outputs": [
    {
     "name": "stderr",
     "output_type": "stream",
     "text": [
      "100%|███████████████████████████████████████████████████████████████████████████| 50000/50000 [02:15<00:00, 369.06it/s]\n"
     ]
    }
   ],
   "source": [
    "for row in tqdm(test_df3.itertuples(index = False), total = len(test_df3)):\n",
    "    predicted = '/'\n",
    "    tokens = nlp3(row[1])\n",
    "    for ent in tokens.ents:\n",
    "        if ent.label_ == 'STREET':\n",
    "            predicted = predicted + ent.text\n",
    "        if ent.label_ == 'POI':\n",
    "            predicted = ent.text + predicted\n",
    "    prediction.append(predicted)"
   ]
  },
  {
   "cell_type": "code",
   "execution_count": 19,
   "id": "moved-detector",
   "metadata": {
    "ExecuteTime": {
     "end_time": "2021-03-18T09:14:21.310096Z",
     "start_time": "2021-03-18T09:14:21.297131Z"
    }
   },
   "outputs": [],
   "source": [
    "test_df3['prediction'] = prediction"
   ]
  },
  {
   "cell_type": "code",
   "execution_count": 20,
   "id": "amber-station",
   "metadata": {
    "ExecuteTime": {
     "end_time": "2021-03-18T09:14:24.336315Z",
     "start_time": "2021-03-18T09:14:24.318363Z"
    }
   },
   "outputs": [
    {
     "data": {
      "text/html": [
       "<div>\n",
       "<style scoped>\n",
       "    .dataframe tbody tr th:only-of-type {\n",
       "        vertical-align: middle;\n",
       "    }\n",
       "\n",
       "    .dataframe tbody tr th {\n",
       "        vertical-align: top;\n",
       "    }\n",
       "\n",
       "    .dataframe thead th {\n",
       "        text-align: right;\n",
       "    }\n",
       "</style>\n",
       "<table border=\"1\" class=\"dataframe\">\n",
       "  <thead>\n",
       "    <tr style=\"text-align: right;\">\n",
       "      <th></th>\n",
       "      <th>id</th>\n",
       "      <th>raw_address</th>\n",
       "      <th>prediction</th>\n",
       "    </tr>\n",
       "  </thead>\n",
       "  <tbody>\n",
       "    <tr>\n",
       "      <th>0</th>\n",
       "      <td>0</td>\n",
       "      <td>s. par 53 sidanegara 4 cilacap tengah</td>\n",
       "      <td>/s. par</td>\n",
       "    </tr>\n",
       "    <tr>\n",
       "      <th>1</th>\n",
       "      <td>1</td>\n",
       "      <td>angg per, baloi indah kel. lubuk baja</td>\n",
       "      <td>/angg per</td>\n",
       "    </tr>\n",
       "    <tr>\n",
       "      <th>2</th>\n",
       "      <td>2</td>\n",
       "      <td>asma laun, mand imog,</td>\n",
       "      <td>/mand imog</td>\n",
       "    </tr>\n",
       "    <tr>\n",
       "      <th>3</th>\n",
       "      <td>3</td>\n",
       "      <td>ud agung rej, raya nga sri wedari karanganyar</td>\n",
       "      <td>/raya nga</td>\n",
       "    </tr>\n",
       "    <tr>\n",
       "      <th>4</th>\n",
       "      <td>4</td>\n",
       "      <td>cut mutia, 35 baiturrahman</td>\n",
       "      <td>/cut mutia</td>\n",
       "    </tr>\n",
       "    <tr>\n",
       "      <th>...</th>\n",
       "      <td>...</td>\n",
       "      <td>...</td>\n",
       "      <td>...</td>\n",
       "    </tr>\n",
       "    <tr>\n",
       "      <th>95</th>\n",
       "      <td>95</td>\n",
       "      <td>20 dese 15 rt 2 3 pegadungan kalideres</td>\n",
       "      <td>/20 dese</td>\n",
       "    </tr>\n",
       "    <tr>\n",
       "      <th>96</th>\n",
       "      <td>96</td>\n",
       "      <td>nila 64 bulakamba</td>\n",
       "      <td>/nila</td>\n",
       "    </tr>\n",
       "    <tr>\n",
       "      <th>97</th>\n",
       "      <td>97</td>\n",
       "      <td>raya pasar kec,</td>\n",
       "      <td>/raya pasar kec</td>\n",
       "    </tr>\n",
       "    <tr>\n",
       "      <th>98</th>\n",
       "      <td>98</td>\n",
       "      <td>lin ren tembil smk pekantua,</td>\n",
       "      <td>smk pekantua/lin ren tembil</td>\n",
       "    </tr>\n",
       "    <tr>\n",
       "      <th>99</th>\n",
       "      <td>99</td>\n",
       "      <td>pelor, kampung melayu timur rt 1 6 teluknaga</td>\n",
       "      <td>/pelor</td>\n",
       "    </tr>\n",
       "  </tbody>\n",
       "</table>\n",
       "<p>100 rows × 3 columns</p>\n",
       "</div>"
      ],
      "text/plain": [
       "    id                                    raw_address  \\\n",
       "0    0          s. par 53 sidanegara 4 cilacap tengah   \n",
       "1    1          angg per, baloi indah kel. lubuk baja   \n",
       "2    2                          asma laun, mand imog,   \n",
       "3    3  ud agung rej, raya nga sri wedari karanganyar   \n",
       "4    4                     cut mutia, 35 baiturrahman   \n",
       "..  ..                                            ...   \n",
       "95  95         20 dese 15 rt 2 3 pegadungan kalideres   \n",
       "96  96                              nila 64 bulakamba   \n",
       "97  97                                raya pasar kec,   \n",
       "98  98                   lin ren tembil smk pekantua,   \n",
       "99  99   pelor, kampung melayu timur rt 1 6 teluknaga   \n",
       "\n",
       "                     prediction  \n",
       "0                       /s. par  \n",
       "1                     /angg per  \n",
       "2                    /mand imog  \n",
       "3                     /raya nga  \n",
       "4                    /cut mutia  \n",
       "..                          ...  \n",
       "95                     /20 dese  \n",
       "96                        /nila  \n",
       "97              /raya pasar kec  \n",
       "98  smk pekantua/lin ren tembil  \n",
       "99                       /pelor  \n",
       "\n",
       "[100 rows x 3 columns]"
      ]
     },
     "execution_count": 20,
     "metadata": {},
     "output_type": "execute_result"
    }
   ],
   "source": [
    "test_df3.head(100)"
   ]
  },
  {
   "cell_type": "code",
   "execution_count": 21,
   "id": "pretty-prevention",
   "metadata": {
    "ExecuteTime": {
     "end_time": "2021-03-18T09:14:31.730213Z",
     "start_time": "2021-03-18T09:14:31.716252Z"
    }
   },
   "outputs": [],
   "source": [
    "submission3 = test_df3[['id','prediction']]"
   ]
  },
  {
   "cell_type": "code",
   "execution_count": 22,
   "id": "apparent-sender",
   "metadata": {
    "ExecuteTime": {
     "end_time": "2021-03-18T09:14:32.722132Z",
     "start_time": "2021-03-18T09:14:32.712159Z"
    }
   },
   "outputs": [],
   "source": [
    "submission3 = submission3.rename({'prediction':'POI/street'}, axis = 1)"
   ]
  },
  {
   "cell_type": "code",
   "execution_count": 23,
   "id": "remarkable-thickness",
   "metadata": {
    "ExecuteTime": {
     "end_time": "2021-03-18T09:14:33.849746Z",
     "start_time": "2021-03-18T09:14:33.752033Z"
    }
   },
   "outputs": [],
   "source": [
    "submission3.to_csv('submission3.csv', index = False)"
   ]
  },
  {
   "cell_type": "markdown",
   "id": "light-spine",
   "metadata": {},
   "source": [
    "## Results from 3 models\n",
    "Model 1 (xx_ent_wiki_sm model with nlp.initialize()) **Test Accuracy: 58.60%**  \n",
    "Model 2 (en_core_web_large model) **Test accuracy: 51.22%**  \n",
    "Model 3 (xx_ent_wiki_sm model without nlp.initialize()) **Test Accuracy: 57.90%**"
   ]
  },
  {
   "cell_type": "markdown",
   "id": "upper-salad",
   "metadata": {},
   "source": [
    "### Model 1 perform best, so we will use this in the final model and train longer"
   ]
  },
  {
   "cell_type": "markdown",
   "id": "pharmaceutical-blake",
   "metadata": {},
   "source": [
    "## Final Model ( with 'xx_ent_wiki_sm' ) multi language with nlp.initialize() and 120 iterations"
   ]
  },
  {
   "cell_type": "code",
   "execution_count": 5,
   "id": "first-monkey",
   "metadata": {
    "ExecuteTime": {
     "end_time": "2021-03-20T00:22:03.379811Z",
     "start_time": "2021-03-20T00:22:03.366832Z"
    }
   },
   "outputs": [],
   "source": [
    "test_df4 = raw_test.copy()"
   ]
  },
  {
   "cell_type": "code",
   "execution_count": 6,
   "id": "historic-constitution",
   "metadata": {
    "ExecuteTime": {
     "end_time": "2021-03-20T00:22:06.066265Z",
     "start_time": "2021-03-20T00:22:04.053952Z"
    }
   },
   "outputs": [],
   "source": [
    "nlp4 = spacy.load('id_ner_address_final')"
   ]
  },
  {
   "cell_type": "code",
   "execution_count": 7,
   "id": "banned-courtesy",
   "metadata": {
    "ExecuteTime": {
     "end_time": "2021-03-20T00:22:07.592031Z",
     "start_time": "2021-03-20T00:22:07.576048Z"
    }
   },
   "outputs": [],
   "source": [
    "prediction = []"
   ]
  },
  {
   "cell_type": "code",
   "execution_count": 8,
   "id": "demonstrated-archives",
   "metadata": {
    "ExecuteTime": {
     "end_time": "2021-03-20T00:24:49.594585Z",
     "start_time": "2021-03-20T00:22:32.053726Z"
    }
   },
   "outputs": [
    {
     "name": "stderr",
     "output_type": "stream",
     "text": [
      "100%|███████████████████████████████████████████████████████████████████████████| 50000/50000 [02:17<00:00, 363.58it/s]\n"
     ]
    }
   ],
   "source": [
    "for row in tqdm(test_df4.itertuples(index = False), total = len(test_df4)):\n",
    "    predicted = '/'\n",
    "    tokens = nlp4(row[1])\n",
    "    for ent in tokens.ents:\n",
    "        if ent.label_ == 'STREET':\n",
    "            predicted = predicted + ent.text\n",
    "        if ent.label_ == 'POI':\n",
    "            predicted = ent.text + predicted\n",
    "    prediction.append(predicted)"
   ]
  },
  {
   "cell_type": "code",
   "execution_count": 9,
   "id": "adopted-nitrogen",
   "metadata": {
    "ExecuteTime": {
     "end_time": "2021-03-20T00:25:21.252833Z",
     "start_time": "2021-03-20T00:25:21.233883Z"
    }
   },
   "outputs": [],
   "source": [
    "test_df4['prediction'] = prediction"
   ]
  },
  {
   "cell_type": "code",
   "execution_count": 10,
   "id": "oriental-involvement",
   "metadata": {
    "ExecuteTime": {
     "end_time": "2021-03-20T00:25:22.012759Z",
     "start_time": "2021-03-20T00:25:21.985833Z"
    }
   },
   "outputs": [
    {
     "data": {
      "text/html": [
       "<div>\n",
       "<style scoped>\n",
       "    .dataframe tbody tr th:only-of-type {\n",
       "        vertical-align: middle;\n",
       "    }\n",
       "\n",
       "    .dataframe tbody tr th {\n",
       "        vertical-align: top;\n",
       "    }\n",
       "\n",
       "    .dataframe thead th {\n",
       "        text-align: right;\n",
       "    }\n",
       "</style>\n",
       "<table border=\"1\" class=\"dataframe\">\n",
       "  <thead>\n",
       "    <tr style=\"text-align: right;\">\n",
       "      <th></th>\n",
       "      <th>id</th>\n",
       "      <th>raw_address</th>\n",
       "      <th>prediction</th>\n",
       "    </tr>\n",
       "  </thead>\n",
       "  <tbody>\n",
       "    <tr>\n",
       "      <th>0</th>\n",
       "      <td>0</td>\n",
       "      <td>s. par 53 sidanegara 4 cilacap tengah</td>\n",
       "      <td>/s. par</td>\n",
       "    </tr>\n",
       "    <tr>\n",
       "      <th>1</th>\n",
       "      <td>1</td>\n",
       "      <td>angg per, baloi indah kel. lubuk baja</td>\n",
       "      <td>/angg per</td>\n",
       "    </tr>\n",
       "    <tr>\n",
       "      <th>2</th>\n",
       "      <td>2</td>\n",
       "      <td>asma laun, mand imog,</td>\n",
       "      <td>/mand imog</td>\n",
       "    </tr>\n",
       "    <tr>\n",
       "      <th>3</th>\n",
       "      <td>3</td>\n",
       "      <td>ud agung rej, raya nga sri wedari karanganyar</td>\n",
       "      <td>/raya nga</td>\n",
       "    </tr>\n",
       "    <tr>\n",
       "      <th>4</th>\n",
       "      <td>4</td>\n",
       "      <td>cut mutia, 35 baiturrahman</td>\n",
       "      <td>/cut mutia</td>\n",
       "    </tr>\n",
       "    <tr>\n",
       "      <th>...</th>\n",
       "      <td>...</td>\n",
       "      <td>...</td>\n",
       "      <td>...</td>\n",
       "    </tr>\n",
       "    <tr>\n",
       "      <th>95</th>\n",
       "      <td>95</td>\n",
       "      <td>20 dese 15 rt 2 3 pegadungan kalideres</td>\n",
       "      <td>/20 dese</td>\n",
       "    </tr>\n",
       "    <tr>\n",
       "      <th>96</th>\n",
       "      <td>96</td>\n",
       "      <td>nila 64 bulakamba</td>\n",
       "      <td>/nila</td>\n",
       "    </tr>\n",
       "    <tr>\n",
       "      <th>97</th>\n",
       "      <td>97</td>\n",
       "      <td>raya pasar kec,</td>\n",
       "      <td>/raya pasar kec</td>\n",
       "    </tr>\n",
       "    <tr>\n",
       "      <th>98</th>\n",
       "      <td>98</td>\n",
       "      <td>lin ren tembil smk pekantua,</td>\n",
       "      <td>smk pekantua/lin ren tembil</td>\n",
       "    </tr>\n",
       "    <tr>\n",
       "      <th>99</th>\n",
       "      <td>99</td>\n",
       "      <td>pelor, kampung melayu timur rt 1 6 teluknaga</td>\n",
       "      <td>/pelor</td>\n",
       "    </tr>\n",
       "  </tbody>\n",
       "</table>\n",
       "<p>100 rows × 3 columns</p>\n",
       "</div>"
      ],
      "text/plain": [
       "    id                                    raw_address  \\\n",
       "0    0          s. par 53 sidanegara 4 cilacap tengah   \n",
       "1    1          angg per, baloi indah kel. lubuk baja   \n",
       "2    2                          asma laun, mand imog,   \n",
       "3    3  ud agung rej, raya nga sri wedari karanganyar   \n",
       "4    4                     cut mutia, 35 baiturrahman   \n",
       "..  ..                                            ...   \n",
       "95  95         20 dese 15 rt 2 3 pegadungan kalideres   \n",
       "96  96                              nila 64 bulakamba   \n",
       "97  97                                raya pasar kec,   \n",
       "98  98                   lin ren tembil smk pekantua,   \n",
       "99  99   pelor, kampung melayu timur rt 1 6 teluknaga   \n",
       "\n",
       "                     prediction  \n",
       "0                       /s. par  \n",
       "1                     /angg per  \n",
       "2                    /mand imog  \n",
       "3                     /raya nga  \n",
       "4                    /cut mutia  \n",
       "..                          ...  \n",
       "95                     /20 dese  \n",
       "96                        /nila  \n",
       "97              /raya pasar kec  \n",
       "98  smk pekantua/lin ren tembil  \n",
       "99                       /pelor  \n",
       "\n",
       "[100 rows x 3 columns]"
      ]
     },
     "execution_count": 10,
     "metadata": {},
     "output_type": "execute_result"
    }
   ],
   "source": [
    "test_df4.head(100)"
   ]
  },
  {
   "cell_type": "code",
   "execution_count": 11,
   "id": "younger-coupon",
   "metadata": {
    "ExecuteTime": {
     "end_time": "2021-03-20T00:25:31.592018Z",
     "start_time": "2021-03-20T00:25:31.578055Z"
    }
   },
   "outputs": [],
   "source": [
    "submission4 = test_df4[['id','prediction']]"
   ]
  },
  {
   "cell_type": "code",
   "execution_count": 12,
   "id": "cheap-smart",
   "metadata": {
    "ExecuteTime": {
     "end_time": "2021-03-20T00:25:32.230612Z",
     "start_time": "2021-03-20T00:25:32.217647Z"
    }
   },
   "outputs": [],
   "source": [
    "submission4 = submission4.rename({'prediction':'POI/street'}, axis = 1)"
   ]
  },
  {
   "cell_type": "code",
   "execution_count": 13,
   "id": "current-wyoming",
   "metadata": {
    "ExecuteTime": {
     "end_time": "2021-03-20T00:25:33.270749Z",
     "start_time": "2021-03-20T00:25:33.174925Z"
    }
   },
   "outputs": [],
   "source": [
    "submission4.to_csv('submission4.csv', index = False)"
   ]
  },
  {
   "cell_type": "markdown",
   "id": "spanish-allocation",
   "metadata": {},
   "source": [
    "## Final Model ( with 'xx_ent_wiki_sm' ) multi language with nlp.initialize() and 120 iterations (+25 iteration)"
   ]
  },
  {
   "cell_type": "code",
   "execution_count": 16,
   "id": "initial-trout",
   "metadata": {
    "ExecuteTime": {
     "end_time": "2021-03-20T09:58:09.191268Z",
     "start_time": "2021-03-20T09:58:09.180299Z"
    }
   },
   "outputs": [],
   "source": [
    "test_df5 = raw_test.copy()"
   ]
  },
  {
   "cell_type": "code",
   "execution_count": 17,
   "id": "missing-diving",
   "metadata": {
    "ExecuteTime": {
     "end_time": "2021-03-20T09:58:16.872286Z",
     "start_time": "2021-03-20T09:58:14.814815Z"
    }
   },
   "outputs": [],
   "source": [
    "nlp5 = spacy.load('id_ner_address_final_2')"
   ]
  },
  {
   "cell_type": "code",
   "execution_count": 18,
   "id": "ranging-welsh",
   "metadata": {
    "ExecuteTime": {
     "end_time": "2021-03-20T09:58:18.518099Z",
     "start_time": "2021-03-20T09:58:18.499166Z"
    }
   },
   "outputs": [],
   "source": [
    "prediction = []"
   ]
  },
  {
   "cell_type": "code",
   "execution_count": 19,
   "id": "physical-beach",
   "metadata": {
    "ExecuteTime": {
     "end_time": "2021-03-20T10:00:42.211756Z",
     "start_time": "2021-03-20T09:58:38.456282Z"
    }
   },
   "outputs": [
    {
     "name": "stderr",
     "output_type": "stream",
     "text": [
      "100%|███████████████████████████████████████████████████████████████████████████| 50000/50000 [02:03<00:00, 404.11it/s]\n"
     ]
    }
   ],
   "source": [
    "for row in tqdm(test_df5.itertuples(index = False), total = len(test_df5)):\n",
    "    predicted = '/'\n",
    "    tokens = nlp5(row[1])\n",
    "    for ent in tokens.ents:\n",
    "        if ent.label_ == 'STREET':\n",
    "            predicted = predicted + ent.text\n",
    "        if ent.label_ == 'POI':\n",
    "            predicted = ent.text + predicted\n",
    "    prediction.append(predicted)"
   ]
  },
  {
   "cell_type": "code",
   "execution_count": 20,
   "id": "indie-belly",
   "metadata": {
    "ExecuteTime": {
     "end_time": "2021-03-20T10:02:35.558494Z",
     "start_time": "2021-03-20T10:02:35.551515Z"
    }
   },
   "outputs": [],
   "source": [
    "test_df5['prediction'] = prediction"
   ]
  },
  {
   "cell_type": "code",
   "execution_count": 21,
   "id": "qualified-ivory",
   "metadata": {
    "ExecuteTime": {
     "end_time": "2021-03-20T10:02:37.778413Z",
     "start_time": "2021-03-20T10:02:37.750512Z"
    }
   },
   "outputs": [
    {
     "data": {
      "text/html": [
       "<div>\n",
       "<style scoped>\n",
       "    .dataframe tbody tr th:only-of-type {\n",
       "        vertical-align: middle;\n",
       "    }\n",
       "\n",
       "    .dataframe tbody tr th {\n",
       "        vertical-align: top;\n",
       "    }\n",
       "\n",
       "    .dataframe thead th {\n",
       "        text-align: right;\n",
       "    }\n",
       "</style>\n",
       "<table border=\"1\" class=\"dataframe\">\n",
       "  <thead>\n",
       "    <tr style=\"text-align: right;\">\n",
       "      <th></th>\n",
       "      <th>id</th>\n",
       "      <th>raw_address</th>\n",
       "      <th>prediction</th>\n",
       "    </tr>\n",
       "  </thead>\n",
       "  <tbody>\n",
       "    <tr>\n",
       "      <th>0</th>\n",
       "      <td>0</td>\n",
       "      <td>s. par 53 sidanegara 4 cilacap tengah</td>\n",
       "      <td>/s. par</td>\n",
       "    </tr>\n",
       "    <tr>\n",
       "      <th>1</th>\n",
       "      <td>1</td>\n",
       "      <td>angg per, baloi indah kel. lubuk baja</td>\n",
       "      <td>/angg per</td>\n",
       "    </tr>\n",
       "    <tr>\n",
       "      <th>2</th>\n",
       "      <td>2</td>\n",
       "      <td>asma laun, mand imog,</td>\n",
       "      <td>/mand imog</td>\n",
       "    </tr>\n",
       "    <tr>\n",
       "      <th>3</th>\n",
       "      <td>3</td>\n",
       "      <td>ud agung rej, raya nga sri wedari karanganyar</td>\n",
       "      <td>/raya nga</td>\n",
       "    </tr>\n",
       "    <tr>\n",
       "      <th>4</th>\n",
       "      <td>4</td>\n",
       "      <td>cut mutia, 35 baiturrahman</td>\n",
       "      <td>/cut mutia</td>\n",
       "    </tr>\n",
       "    <tr>\n",
       "      <th>...</th>\n",
       "      <td>...</td>\n",
       "      <td>...</td>\n",
       "      <td>...</td>\n",
       "    </tr>\n",
       "    <tr>\n",
       "      <th>95</th>\n",
       "      <td>95</td>\n",
       "      <td>20 dese 15 rt 2 3 pegadungan kalideres</td>\n",
       "      <td>/20 dese</td>\n",
       "    </tr>\n",
       "    <tr>\n",
       "      <th>96</th>\n",
       "      <td>96</td>\n",
       "      <td>nila 64 bulakamba</td>\n",
       "      <td>/nila</td>\n",
       "    </tr>\n",
       "    <tr>\n",
       "      <th>97</th>\n",
       "      <td>97</td>\n",
       "      <td>raya pasar kec,</td>\n",
       "      <td>/raya pasar kec</td>\n",
       "    </tr>\n",
       "    <tr>\n",
       "      <th>98</th>\n",
       "      <td>98</td>\n",
       "      <td>lin ren tembil smk pekantua,</td>\n",
       "      <td>smk pekantua/lin ren tembil</td>\n",
       "    </tr>\n",
       "    <tr>\n",
       "      <th>99</th>\n",
       "      <td>99</td>\n",
       "      <td>pelor, kampung melayu timur rt 1 6 teluknaga</td>\n",
       "      <td>/pelor</td>\n",
       "    </tr>\n",
       "  </tbody>\n",
       "</table>\n",
       "<p>100 rows × 3 columns</p>\n",
       "</div>"
      ],
      "text/plain": [
       "    id                                    raw_address  \\\n",
       "0    0          s. par 53 sidanegara 4 cilacap tengah   \n",
       "1    1          angg per, baloi indah kel. lubuk baja   \n",
       "2    2                          asma laun, mand imog,   \n",
       "3    3  ud agung rej, raya nga sri wedari karanganyar   \n",
       "4    4                     cut mutia, 35 baiturrahman   \n",
       "..  ..                                            ...   \n",
       "95  95         20 dese 15 rt 2 3 pegadungan kalideres   \n",
       "96  96                              nila 64 bulakamba   \n",
       "97  97                                raya pasar kec,   \n",
       "98  98                   lin ren tembil smk pekantua,   \n",
       "99  99   pelor, kampung melayu timur rt 1 6 teluknaga   \n",
       "\n",
       "                     prediction  \n",
       "0                       /s. par  \n",
       "1                     /angg per  \n",
       "2                    /mand imog  \n",
       "3                     /raya nga  \n",
       "4                    /cut mutia  \n",
       "..                          ...  \n",
       "95                     /20 dese  \n",
       "96                        /nila  \n",
       "97              /raya pasar kec  \n",
       "98  smk pekantua/lin ren tembil  \n",
       "99                       /pelor  \n",
       "\n",
       "[100 rows x 3 columns]"
      ]
     },
     "execution_count": 21,
     "metadata": {},
     "output_type": "execute_result"
    }
   ],
   "source": [
    "test_df5.head(100)"
   ]
  },
  {
   "cell_type": "code",
   "execution_count": 22,
   "id": "assured-advancement",
   "metadata": {
    "ExecuteTime": {
     "end_time": "2021-03-20T10:02:40.625475Z",
     "start_time": "2021-03-20T10:02:40.606524Z"
    }
   },
   "outputs": [],
   "source": [
    "submission5 = test_df5[['id','prediction']]"
   ]
  },
  {
   "cell_type": "code",
   "execution_count": 23,
   "id": "powerful-realtor",
   "metadata": {
    "ExecuteTime": {
     "end_time": "2021-03-20T10:02:41.152890Z",
     "start_time": "2021-03-20T10:02:41.139890Z"
    }
   },
   "outputs": [],
   "source": [
    "submission5 = submission5.rename({'prediction':'POI/street'}, axis = 1)"
   ]
  },
  {
   "cell_type": "code",
   "execution_count": 24,
   "id": "changed-extra",
   "metadata": {
    "ExecuteTime": {
     "end_time": "2021-03-20T10:02:45.865625Z",
     "start_time": "2021-03-20T10:02:45.773824Z"
    }
   },
   "outputs": [],
   "source": [
    "submission5.to_csv('submission5.csv', index = False)"
   ]
  }
 ],
 "metadata": {
  "kernelspec": {
   "display_name": "Python 3",
   "language": "python",
   "name": "python3"
  },
  "language_info": {
   "codemirror_mode": {
    "name": "ipython",
    "version": 3
   },
   "file_extension": ".py",
   "mimetype": "text/x-python",
   "name": "python",
   "nbconvert_exporter": "python",
   "pygments_lexer": "ipython3",
   "version": "3.8.3"
  }
 },
 "nbformat": 4,
 "nbformat_minor": 5
}
